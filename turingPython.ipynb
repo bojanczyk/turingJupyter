{
 "cells": [
  {
   "cell_type": "markdown",
   "id": "3bd81b6e-34ba-4e97-acdf-99deca803266",
   "metadata": {},
   "source": [
    "Code for manipulating Turing machines"
   ]
  },
  {
   "cell_type": "code",
   "execution_count": 7,
   "id": "e8e96581-7062-438d-bc7a-3ed00666e69d",
   "metadata": {
    "jupyter": {
     "source_hidden": true
    },
    "tags": []
   },
   "outputs": [],
   "source": [
    "import copy\n",
    "\n",
    "def initialConf (machine, word) :\n",
    "    return {\n",
    "        'state' : machine['initial'],\n",
    "        'input tape' : word,\n",
    "        'input head' : 0,\n",
    "        'work tape' : [''],\n",
    "        'work head' : 0\n",
    "    }\n",
    "        \n",
    "\n",
    "def doesTransitionApply (trans, conf) :\n",
    "    \n",
    "    #wrong state\n",
    "    if trans['state before'] != conf['state']:\n",
    "        return False\n",
    "    \n",
    "    #wrong input letter\n",
    "    markedtape = ['⊢']+ conf['input tape'] + ['⊣']\n",
    "    if ('input letter before' in trans) and (trans['input letter before'] != markedtape[conf['input head']]):\n",
    "        return False\n",
    "    \n",
    "    #wrong work letter\n",
    "    if ('work letter before' in trans) and (trans['work letter before'] != (conf['work tape'])[conf['work head']]):\n",
    "        return False\n",
    "    \n",
    "    #input head falls out of input tape\n",
    "    if ('move input head' in trans) and ((conf['input head'] + trans['move input head'] >= len(markedtape)) \n",
    "                                         or (conf['input head'] + trans['move input head'] < 0)):\n",
    "        return False\n",
    "\n",
    "    #work head falls out of work tape to the left\n",
    "    if ('move work head' in trans) and (trans['move work head'] + conf['work head'] < 0):\n",
    "        return False\n",
    "    \n",
    "    return True\n",
    "\n",
    "#applies a transitions and returns the new configuration\n",
    "def applyTransition(trans,conf):\n",
    "    if not doesTransitionApply(trans,conf):\n",
    "        raise Exception('tried to apply transition that does not apply')\n",
    "    \n",
    "    if 'halt' in trans:\n",
    "        return trans['halt']\n",
    "    \n",
    "    newconf = copy.deepcopy(conf);\n",
    "    \n",
    "    newconf['state'] = trans['state after']\n",
    "    \n",
    "    if 'move input head' in trans:\n",
    "        newconf['input head']+=trans['move input head']\n",
    "    \n",
    "    if 'work tape after' in trans:\n",
    "        newconf['work tape'][newconf['work head']] = trans['work tape after']\n",
    "\n",
    "    if 'move work head' in trans:\n",
    "        newconf['work head']+=trans['move work head']\n",
    "            \n",
    "    #if the work head moved out of work tape, add a new blank symbol\n",
    "    if newconf['work head'] >= len(newconf['work tape']):\n",
    "        newconf['work tape'] += ['']\n",
    "\n",
    "    return newconf\n",
    "\n",
    "#returns the list of all avaialable transitions\n",
    "def availableTransitions(machine, conf):\n",
    "\n",
    "    retval = []\n",
    "\n",
    "    if (conf == 'accept') or (conf == 'reject'):\n",
    "        return retval\n",
    "\n",
    "    for t in machine['transitions']:\n",
    "        if doesTransitionApply(t, conf):\n",
    "            retval += [t]\n",
    "    return retval\n",
    "\n",
    "#returns the list of all configurations in a run, for the given input string\n",
    "#if several transitions apply, the first one is used\n",
    "\n",
    "def run(machine, string):\n",
    "    conf = initialConf(machine, string)\n",
    "\n",
    "    #the return value is a list of configurations\n",
    "    retval = []\n",
    "    while True:\n",
    "        retval += [conf]\n",
    "        \n",
    "        if conf == 'accept' or conf == 'reject':\n",
    "            break\n",
    "            \n",
    "        transitionList = availableTransitions(machine, conf);\n",
    "        if len(transitionList) == 0:\n",
    "            retval+=['reject']\n",
    "            break\n",
    "        \n",
    "        #we use first available transition\n",
    "        t =transitionList[0]\n",
    "        conf = applyTransition(t,conf)\n",
    "        \n",
    "    return retval\n",
    "\n",
    "from IPython.core.display import HTML\n",
    "\n",
    "def cellHTML(content, head) :\n",
    "    if head:\n",
    "        return '<span style=\"background-color:red; padding: 10px; margin: 5px\">' +  content + '</span>'\n",
    "    else:\n",
    "        return '<span style=\"background-color:lightgrey; padding: 10px; margin: 5px\">' +  content + '</span>'\n",
    "    \n",
    "def tapeHTML(string, head) :\n",
    "    if (head < 0 or head >= len(string)):\n",
    "        raise Exception('head out of bounds')\n",
    "    index = 0\n",
    "    retval = '<span style=\"margin:20px\">'\n",
    "    for x in string:\n",
    "        retval += cellHTML(x, index == head)\n",
    "        index += 1\n",
    "    return retval + '</span>'\n",
    "\n",
    "\n",
    "def confHTML(conf) :\n",
    "    retval = '<div style=\"padding:20px\">'\n",
    "    if (conf == 'accept' or conf == 'reject'):\n",
    "        retval += conf\n",
    "    else:\n",
    "        retval +='<span style=\"display:inline-block; width:100px\"> state:' + conf['state'] + '</span>'\n",
    "        retval += 'input tape:'\n",
    "        retval += tapeHTML(['⊢']+ conf['input tape'] + ['⊣'], conf['input head'])\n",
    "        retval += 'work tape:'\n",
    "        retval += tapeHTML(conf['work tape'], conf['work head'])\n",
    "    \n",
    "    retval += '</div>'\n",
    "    return retval \n",
    "\n",
    "def displayConf(conf) :\n",
    "    HTML(confHTML(conf))\n",
    "    \n",
    "def displayRun(machine,string):\n",
    "    retval = ''\n",
    "    for conf in run(machine, string):\n",
    "        retval += confHTML(conf)\n",
    "    return HTML(retval)"
   ]
  },
  {
   "cell_type": "markdown",
   "id": "997e5e11-7cad-448b-99fc-71d4162efbe5",
   "metadata": {
    "tags": []
   },
   "source": [
    "# Palindromes\n",
    "\n",
    "Here is a Turing machine with input alphabet ['a','b'] that accepts exactly the palindromes."
   ]
  },
  {
   "cell_type": "code",
   "execution_count": 4,
   "id": "8d059a37-dd5c-4c40-b99a-4eb7ea87c5fc",
   "metadata": {},
   "outputs": [],
   "source": [
    "machine = { 'initial' : 'p',\n",
    "          'transitions' : [\n",
    "           {'state before' : 'p', 'state after' : 'p', 'input letter before' : '⊢','move input head' : 1,'move work head' : 1,'work tape after' : '⊢'},\n",
    "              {'state before' : 'p', 'state after' : 'p', 'input letter before' : 'a', 'move input head' : 1, 'move work head' : 1,'work tape after' : 'a'},\n",
    "              {'state before' : 'p', 'state after' : 'p', 'input letter before' : 'b', 'move input head' : 1, 'move work head' : 1, 'work tape after' : 'b'},\n",
    "              {'state before' : 'p', 'state after' : 'q', 'input letter before' : '⊣', 'move input head' : -1},\n",
    "              {'state before' : 'q', 'state after' : 'q', 'input letter before' : 'a','move input head' : -1},\n",
    "              {'state before' : 'q', 'state after' : 'q', 'input letter before' : 'b', 'move input head' : -1},\n",
    "              {'state before' : 'q', 'state after' : 'r', 'input letter before' : '⊢','move input head' : 1,'move work head' : -1},\n",
    "              {'state before' : 'r', 'state after' : 'r', 'input letter before' : 'a','work letter before' : 'a' ,'move work head' : -1, 'move input head' : 1},\n",
    "              {'state before' : 'r', 'state after' : 'r', 'input letter before' : 'b','work letter before' : 'b' ,'move work head' : -1, 'move input head' : 1},\n",
    "            {'state before' : 'r', 'input letter before' : '⊣','halt' : 'accept' },\n",
    "           ]\n",
    "          }"
   ]
  },
  {
   "cell_type": "code",
   "execution_count": 5,
   "id": "1e609810-30be-4643-b2db-88ef95afc238",
   "metadata": {},
   "outputs": [
    {
     "data": {
      "text/html": [
       "<div style=\"padding:20px\"><span style=\"display:inline-block; width:100px\"> state:p</span>input tape:<span style=\"margin:20px\"><span style=\"background-color:red; padding: 10px; margin: 5px\">⊢</span><span style=\"background-color:lightgrey; padding: 10px; margin: 5px\">⊣</span></span>work tape:<span style=\"margin:20px\"><span style=\"background-color:red; padding: 10px; margin: 5px\"></span></span></div><div style=\"padding:20px\"><span style=\"display:inline-block; width:100px\"> state:p</span>input tape:<span style=\"margin:20px\"><span style=\"background-color:lightgrey; padding: 10px; margin: 5px\">⊢</span><span style=\"background-color:red; padding: 10px; margin: 5px\">⊣</span></span>work tape:<span style=\"margin:20px\"><span style=\"background-color:lightgrey; padding: 10px; margin: 5px\">⊢</span><span style=\"background-color:red; padding: 10px; margin: 5px\"></span></span></div><div style=\"padding:20px\"><span style=\"display:inline-block; width:100px\"> state:q</span>input tape:<span style=\"margin:20px\"><span style=\"background-color:red; padding: 10px; margin: 5px\">⊢</span><span style=\"background-color:lightgrey; padding: 10px; margin: 5px\">⊣</span></span>work tape:<span style=\"margin:20px\"><span style=\"background-color:lightgrey; padding: 10px; margin: 5px\">⊢</span><span style=\"background-color:red; padding: 10px; margin: 5px\"></span></span></div><div style=\"padding:20px\"><span style=\"display:inline-block; width:100px\"> state:r</span>input tape:<span style=\"margin:20px\"><span style=\"background-color:lightgrey; padding: 10px; margin: 5px\">⊢</span><span style=\"background-color:red; padding: 10px; margin: 5px\">⊣</span></span>work tape:<span style=\"margin:20px\"><span style=\"background-color:red; padding: 10px; margin: 5px\">⊢</span><span style=\"background-color:lightgrey; padding: 10px; margin: 5px\"></span></span></div><div style=\"padding:20px\">accept</div>"
      ],
      "text/plain": [
       "<IPython.core.display.HTML object>"
      ]
     },
     "execution_count": 5,
     "metadata": {},
     "output_type": "execute_result"
    }
   ],
   "source": [
    "displayRun(machine,[])"
   ]
  }
 ],
 "metadata": {
  "kernelspec": {
   "display_name": "Python 3 (ipykernel)",
   "language": "python",
   "name": "python3"
  },
  "language_info": {
   "codemirror_mode": {
    "name": "ipython",
    "version": 3
   },
   "file_extension": ".py",
   "mimetype": "text/x-python",
   "name": "python",
   "nbconvert_exporter": "python",
   "pygments_lexer": "ipython3",
   "version": "3.11.0"
  },
  "vscode": {
   "interpreter": {
    "hash": "aee8b7b246df8f9039afb4144a1f6fd8d2ca17a180786b69acc140d282b71a49"
   }
  }
 },
 "nbformat": 4,
 "nbformat_minor": 5
}
