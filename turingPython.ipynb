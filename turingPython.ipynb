{
 "cells": [
  {
   "cell_type": "markdown",
   "id": "3bd81b6e-34ba-4e97-acdf-99deca803266",
   "metadata": {},
   "source": [
    "# Code\n",
    "\n",
    "Below is some python code for manipulating Turing machines. Scroll below to the palindromes section to see how it is used."
   ]
  },
  {
   "cell_type": "code",
   "execution_count": 35,
   "id": "e8e96581-7062-438d-bc7a-3ed00666e69d",
   "metadata": {
    "jupyter": {
     "source_hidden": true
    },
    "tags": []
   },
   "outputs": [],
   "source": [
    "import copy\n",
    "\n",
    "def initialConf (machine, word) :\n",
    "    if 'onlyWorkTape' in machine:\n",
    "        return {\n",
    "            'state' : machine['initial'],\n",
    "            'work tape' : ['⊢']+word,\n",
    "            'work head' : 0\n",
    "        }\n",
    "    else:\n",
    "        return {\n",
    "            'state' : machine['initial'],\n",
    "            'input tape' : ['⊢']+word+ ['⊣'],\n",
    "            'input head' : 0,\n",
    "            'work tape' : ['⊢'],\n",
    "            'work head' : 0\n",
    "        }\n",
    "        \n",
    "\n",
    "def doesTransitionApply (trans, conf) :\n",
    "    \n",
    "    #wrong state\n",
    "    if trans['state before'] != conf['state']:\n",
    "        return False\n",
    "\n",
    "    #questions about work tape are asked only if it exists\n",
    "    if 'input tape' in conf:\n",
    "        #wrong input letter\n",
    "        if ('input letter before' in trans) and (trans['input letter before'] != conf['input tape'][conf['input head']]):\n",
    "            return False\n",
    "        #input head falls out of input tape\n",
    "        if ('move input head' in trans) and ((conf['input head'] + trans['move input head'] >= len(conf['input tape'])) \n",
    "                                         or (conf['input head'] + trans['move input head'] < 0)):\n",
    "            return False\n",
    "\n",
    "    #wrong work letter\n",
    "    if ('work letter before' in trans) and (trans['work letter before'] != (conf['work tape'])[conf['work head']]):\n",
    "        return False\n",
    "    \n",
    "    #work head falls out of work tape to the left\n",
    "    if ('move work head' in trans) and (trans['move work head'] + conf['work head'] < 0):\n",
    "        return False\n",
    "    \n",
    "    return True\n",
    "\n",
    "#applies a transitions and returns the new configuration\n",
    "def applyTransition(trans,conf):\n",
    "    if not doesTransitionApply(trans,conf):\n",
    "        raise Exception('tried to apply transition that does not apply')\n",
    "\n",
    "    #a special configuration that halts and just gives the result, which is typically accept/reject\n",
    "    if 'halt' in trans:\n",
    "        return { 'halt' : trans['halt']}\n",
    "    \n",
    "    newconf = copy.deepcopy(conf);\n",
    "    \n",
    "    newconf['state'] = trans['state after']\n",
    "    \n",
    "    if 'move input head' in trans:\n",
    "        newconf['input head']+=trans['move input head']\n",
    "    \n",
    "    if 'work letter after' in trans:\n",
    "        newconf['work tape'][newconf['work head']] = trans['work letter after']\n",
    "\n",
    "    if 'move work head' in trans:\n",
    "        newconf['work head']+=trans['move work head']\n",
    "            \n",
    "    #if the work head moved out of work tape, add a new blank symbol\n",
    "    if newconf['work head'] >= len(newconf['work tape']):\n",
    "        newconf['work tape'] += ['']\n",
    "\n",
    "    return newconf\n",
    "\n",
    "#returns the list of all avaialable transitions\n",
    "def availableTransitions(machine, conf):\n",
    "\n",
    "    retval = []\n",
    "\n",
    "    if (conf == 'accept') or (conf == 'reject'):\n",
    "        return retval\n",
    "\n",
    "    for t in machine['transitions']:\n",
    "        if doesTransitionApply(t, conf):\n",
    "            retval += [t]\n",
    "    return retval\n",
    "\n",
    "#returns the list of all configurations in a run, for the given input string\n",
    "#if several transitions apply, the first one is used\n",
    "\n",
    "def run(machine, string):\n",
    "    \n",
    "    conf = initialConf(machine, string)\n",
    "\n",
    "    #the return value is a list of configurations\n",
    "    retval = []\n",
    "    while True:\n",
    "        retval += [conf]\n",
    "\n",
    "        if 'halt' in conf:\n",
    "            break\n",
    "\n",
    "        #there is a timeout of 10k transitions\n",
    "        if len(retval) > 100:\n",
    "            retval+=[{'halt':'reject because run length exceeded'}]\n",
    "            break\n",
    "            \n",
    "        transitionList = availableTransitions(machine, conf);\n",
    "        \n",
    "        if len(transitionList) == 0:\n",
    "            retval+=[{'halt':'reject because no transition can be applied'}]\n",
    "            break\n",
    "        \n",
    "        #we use first available transition\n",
    "        t =transitionList[0]\n",
    "        conf = applyTransition(t,conf)\n",
    "        \n",
    "        \n",
    "    return retval\n",
    "\n",
    "#this part of the code displays runs in HTML\n",
    "from IPython.core.display import HTML\n",
    "\n",
    "#returns HTML representation of a single cell\n",
    "def cellHTML(content, head) :\n",
    "    if head:\n",
    "        return '<span style=\"background-color:red; padding: 5px; margin: 3px\">' +  content + '</span>'\n",
    "    else:\n",
    "        return '<span style=\"background-color:lightgrey; padding: 5px; margin: 3px\">' +  content + '</span>'\n",
    "\n",
    "#returns HTML representation of a tape, which can be the input or work tape\n",
    "def tapeHTML(string, head) :\n",
    "    if (head < 0 or head >= len(string)):\n",
    "        raise Exception('head out of bounds')\n",
    "    index = 0\n",
    "    retval = '<span style=\"margin:20px\">'\n",
    "    for x in string:\n",
    "        retval += cellHTML(x, index == head)\n",
    "        index += 1\n",
    "    return retval + '</span>'\n",
    "\n",
    "#returns HTML representation of an entire configuration\n",
    "def confHTML(conf) :\n",
    "    retval = '<div style=\"padding:20px\">'\n",
    "    if ('halt' in conf):\n",
    "        retval += conf['halt']\n",
    "    else:\n",
    "        retval +='<span style=\"display:inline-block; width:100px\"> state:' + conf['state'] + '</span>'\n",
    "        #if the machine is two tape, then it has a separate input tape\n",
    "        if ('input tape' in conf):\n",
    "            retval += 'input tape:'\n",
    "            retval += tapeHTML(conf['input tape'], conf['input head'])\n",
    "            retval += 'work tape:'\n",
    "        #both one and two tape machines have a work tape\n",
    "        retval += tapeHTML(conf['work tape'], conf['work head'])\n",
    "    \n",
    "    retval += '</div>'\n",
    "    return retval \n",
    "\n",
    "def displayConf(conf) :\n",
    "    HTML(confHTML(conf))\n",
    "    \n",
    "def displayRun(machine,string):\n",
    "    retval = ''\n",
    "    for conf in run(machine, string):\n",
    "        retval += confHTML(conf)\n",
    "    return HTML(retval)"
   ]
  },
  {
   "cell_type": "markdown",
   "id": "f95ae72e-8d12-403f-9afc-37bf8ff7700f",
   "metadata": {},
   "source": [
    "The syntax of Turing machines is explained below, on the example of a machine for palindromes"
   ]
  },
  {
   "cell_type": "markdown",
   "id": "ae38c57c-6eea-47c5-b91b-72013c0728f4",
   "metadata": {
    "tags": []
   },
   "source": [
    "# Palindromes\n",
    "\n",
    "We give two example machines for palindromes. One is the (default) two tape machine, and the other is a one tape machine.\n",
    "\n",
    "### Two tape palindromes\n",
    "\n",
    "Here is a (two tape) Turing machine with input alphabet ['a','b'] that accepts exactly the palindromes. "
   ]
  },
  {
   "cell_type": "code",
   "execution_count": 36,
   "id": "8d059a37-dd5c-4c40-b99a-4eb7ea87c5fc",
   "metadata": {},
   "outputs": [],
   "source": [
    "machine = { 'initial' : 'p',\n",
    "          'transitions' : [\n",
    "           {'state before' : 'p', 'state after' : 'p', 'input letter before' : '⊢','move input head' : 1,'move work head' : 1,'work letter after' : '⊢'},\n",
    "              {'state before' : 'p', 'state after' : 'p', 'input letter before' : 'a', 'move input head' : 1, 'move work head' : 1,'work letter after' : 'a'},\n",
    "              {'state before' : 'p', 'state after' : 'p', 'input letter before' : 'b', 'move input head' : 1, 'move work head' : 1, 'work letter after' : 'b'},\n",
    "              {'state before' : 'p', 'state after' : 'q', 'input letter before' : '⊣', 'move input head' : -1},\n",
    "              {'state before' : 'q', 'state after' : 'q', 'input letter before' : 'a','move input head' : -1},\n",
    "              {'state before' : 'q', 'state after' : 'q', 'input letter before' : 'b', 'move input head' : -1},\n",
    "              {'state before' : 'q', 'state after' : 'r', 'input letter before' : '⊢','move input head' : 1,'move work head' : -1},\n",
    "              {'state before' : 'r', 'state after' : 'r', 'input letter before' : 'a','work letter before' : 'a' ,'move work head' : -1, 'move input head' : 1},\n",
    "              {'state before' : 'r', 'state after' : 'r', 'input letter before' : 'b','work letter before' : 'b' ,'move work head' : -1, 'move input head' : 1},\n",
    "            {'state before' : 'r', 'input letter before' : '⊣','halt' : 'accept' },\n",
    "           ]\n",
    "          }"
   ]
  },
  {
   "cell_type": "markdown",
   "id": "6e688320-4cdb-4f8e-b1fb-b20352f9dfd9",
   "metadata": {},
   "source": [
    "A machine consists of an initial state, and a list of transitions. The states are implicit – these are the states that appear in the transitions, and also the work and input alphabet are implicit. The states are strings (and not just letters), the same is true for letters of the input and work alphabet, i.e. each such letter is a string. A transition is a record that has the following fields: 'state before', 'state after', 'input letter before', 'work letter before', 'move input head', 'move work head', 'input letter after', 'work letter after'. The fields concerning the letters (both input and work, both before and after) are optional. Omitting a '* letter before' field means the transition applies to all letters, omitting a '* letter after' field means the cell keeps its old value and is not overwritten."
   ]
  },
  {
   "cell_type": "code",
   "execution_count": 37,
   "id": "1e609810-30be-4643-b2db-88ef95afc238",
   "metadata": {
    "scrolled": true,
    "tags": []
   },
   "outputs": [
    {
     "data": {
      "text/html": [
       "<div style=\"padding:20px\"><span style=\"display:inline-block; width:100px\"> state:p</span>input tape:<span style=\"margin:20px\"><span style=\"background-color:red; padding: 5px; margin: 3px\">⊢</span><span style=\"background-color:lightgrey; padding: 5px; margin: 3px\">a</span><span style=\"background-color:lightgrey; padding: 5px; margin: 3px\">b</span><span style=\"background-color:lightgrey; padding: 5px; margin: 3px\">a</span><span style=\"background-color:lightgrey; padding: 5px; margin: 3px\">⊣</span></span>work tape:<span style=\"margin:20px\"><span style=\"background-color:red; padding: 5px; margin: 3px\">⊢</span></span></div><div style=\"padding:20px\"><span style=\"display:inline-block; width:100px\"> state:p</span>input tape:<span style=\"margin:20px\"><span style=\"background-color:lightgrey; padding: 5px; margin: 3px\">⊢</span><span style=\"background-color:red; padding: 5px; margin: 3px\">a</span><span style=\"background-color:lightgrey; padding: 5px; margin: 3px\">b</span><span style=\"background-color:lightgrey; padding: 5px; margin: 3px\">a</span><span style=\"background-color:lightgrey; padding: 5px; margin: 3px\">⊣</span></span>work tape:<span style=\"margin:20px\"><span style=\"background-color:lightgrey; padding: 5px; margin: 3px\">⊢</span><span style=\"background-color:red; padding: 5px; margin: 3px\"></span></span></div><div style=\"padding:20px\"><span style=\"display:inline-block; width:100px\"> state:p</span>input tape:<span style=\"margin:20px\"><span style=\"background-color:lightgrey; padding: 5px; margin: 3px\">⊢</span><span style=\"background-color:lightgrey; padding: 5px; margin: 3px\">a</span><span style=\"background-color:red; padding: 5px; margin: 3px\">b</span><span style=\"background-color:lightgrey; padding: 5px; margin: 3px\">a</span><span style=\"background-color:lightgrey; padding: 5px; margin: 3px\">⊣</span></span>work tape:<span style=\"margin:20px\"><span style=\"background-color:lightgrey; padding: 5px; margin: 3px\">⊢</span><span style=\"background-color:lightgrey; padding: 5px; margin: 3px\">a</span><span style=\"background-color:red; padding: 5px; margin: 3px\"></span></span></div><div style=\"padding:20px\"><span style=\"display:inline-block; width:100px\"> state:p</span>input tape:<span style=\"margin:20px\"><span style=\"background-color:lightgrey; padding: 5px; margin: 3px\">⊢</span><span style=\"background-color:lightgrey; padding: 5px; margin: 3px\">a</span><span style=\"background-color:lightgrey; padding: 5px; margin: 3px\">b</span><span style=\"background-color:red; padding: 5px; margin: 3px\">a</span><span style=\"background-color:lightgrey; padding: 5px; margin: 3px\">⊣</span></span>work tape:<span style=\"margin:20px\"><span style=\"background-color:lightgrey; padding: 5px; margin: 3px\">⊢</span><span style=\"background-color:lightgrey; padding: 5px; margin: 3px\">a</span><span style=\"background-color:lightgrey; padding: 5px; margin: 3px\">b</span><span style=\"background-color:red; padding: 5px; margin: 3px\"></span></span></div><div style=\"padding:20px\"><span style=\"display:inline-block; width:100px\"> state:p</span>input tape:<span style=\"margin:20px\"><span style=\"background-color:lightgrey; padding: 5px; margin: 3px\">⊢</span><span style=\"background-color:lightgrey; padding: 5px; margin: 3px\">a</span><span style=\"background-color:lightgrey; padding: 5px; margin: 3px\">b</span><span style=\"background-color:lightgrey; padding: 5px; margin: 3px\">a</span><span style=\"background-color:red; padding: 5px; margin: 3px\">⊣</span></span>work tape:<span style=\"margin:20px\"><span style=\"background-color:lightgrey; padding: 5px; margin: 3px\">⊢</span><span style=\"background-color:lightgrey; padding: 5px; margin: 3px\">a</span><span style=\"background-color:lightgrey; padding: 5px; margin: 3px\">b</span><span style=\"background-color:lightgrey; padding: 5px; margin: 3px\">a</span><span style=\"background-color:red; padding: 5px; margin: 3px\"></span></span></div><div style=\"padding:20px\"><span style=\"display:inline-block; width:100px\"> state:q</span>input tape:<span style=\"margin:20px\"><span style=\"background-color:lightgrey; padding: 5px; margin: 3px\">⊢</span><span style=\"background-color:lightgrey; padding: 5px; margin: 3px\">a</span><span style=\"background-color:lightgrey; padding: 5px; margin: 3px\">b</span><span style=\"background-color:red; padding: 5px; margin: 3px\">a</span><span style=\"background-color:lightgrey; padding: 5px; margin: 3px\">⊣</span></span>work tape:<span style=\"margin:20px\"><span style=\"background-color:lightgrey; padding: 5px; margin: 3px\">⊢</span><span style=\"background-color:lightgrey; padding: 5px; margin: 3px\">a</span><span style=\"background-color:lightgrey; padding: 5px; margin: 3px\">b</span><span style=\"background-color:lightgrey; padding: 5px; margin: 3px\">a</span><span style=\"background-color:red; padding: 5px; margin: 3px\"></span></span></div><div style=\"padding:20px\"><span style=\"display:inline-block; width:100px\"> state:q</span>input tape:<span style=\"margin:20px\"><span style=\"background-color:lightgrey; padding: 5px; margin: 3px\">⊢</span><span style=\"background-color:lightgrey; padding: 5px; margin: 3px\">a</span><span style=\"background-color:red; padding: 5px; margin: 3px\">b</span><span style=\"background-color:lightgrey; padding: 5px; margin: 3px\">a</span><span style=\"background-color:lightgrey; padding: 5px; margin: 3px\">⊣</span></span>work tape:<span style=\"margin:20px\"><span style=\"background-color:lightgrey; padding: 5px; margin: 3px\">⊢</span><span style=\"background-color:lightgrey; padding: 5px; margin: 3px\">a</span><span style=\"background-color:lightgrey; padding: 5px; margin: 3px\">b</span><span style=\"background-color:lightgrey; padding: 5px; margin: 3px\">a</span><span style=\"background-color:red; padding: 5px; margin: 3px\"></span></span></div><div style=\"padding:20px\"><span style=\"display:inline-block; width:100px\"> state:q</span>input tape:<span style=\"margin:20px\"><span style=\"background-color:lightgrey; padding: 5px; margin: 3px\">⊢</span><span style=\"background-color:red; padding: 5px; margin: 3px\">a</span><span style=\"background-color:lightgrey; padding: 5px; margin: 3px\">b</span><span style=\"background-color:lightgrey; padding: 5px; margin: 3px\">a</span><span style=\"background-color:lightgrey; padding: 5px; margin: 3px\">⊣</span></span>work tape:<span style=\"margin:20px\"><span style=\"background-color:lightgrey; padding: 5px; margin: 3px\">⊢</span><span style=\"background-color:lightgrey; padding: 5px; margin: 3px\">a</span><span style=\"background-color:lightgrey; padding: 5px; margin: 3px\">b</span><span style=\"background-color:lightgrey; padding: 5px; margin: 3px\">a</span><span style=\"background-color:red; padding: 5px; margin: 3px\"></span></span></div><div style=\"padding:20px\"><span style=\"display:inline-block; width:100px\"> state:q</span>input tape:<span style=\"margin:20px\"><span style=\"background-color:red; padding: 5px; margin: 3px\">⊢</span><span style=\"background-color:lightgrey; padding: 5px; margin: 3px\">a</span><span style=\"background-color:lightgrey; padding: 5px; margin: 3px\">b</span><span style=\"background-color:lightgrey; padding: 5px; margin: 3px\">a</span><span style=\"background-color:lightgrey; padding: 5px; margin: 3px\">⊣</span></span>work tape:<span style=\"margin:20px\"><span style=\"background-color:lightgrey; padding: 5px; margin: 3px\">⊢</span><span style=\"background-color:lightgrey; padding: 5px; margin: 3px\">a</span><span style=\"background-color:lightgrey; padding: 5px; margin: 3px\">b</span><span style=\"background-color:lightgrey; padding: 5px; margin: 3px\">a</span><span style=\"background-color:red; padding: 5px; margin: 3px\"></span></span></div><div style=\"padding:20px\"><span style=\"display:inline-block; width:100px\"> state:r</span>input tape:<span style=\"margin:20px\"><span style=\"background-color:lightgrey; padding: 5px; margin: 3px\">⊢</span><span style=\"background-color:red; padding: 5px; margin: 3px\">a</span><span style=\"background-color:lightgrey; padding: 5px; margin: 3px\">b</span><span style=\"background-color:lightgrey; padding: 5px; margin: 3px\">a</span><span style=\"background-color:lightgrey; padding: 5px; margin: 3px\">⊣</span></span>work tape:<span style=\"margin:20px\"><span style=\"background-color:lightgrey; padding: 5px; margin: 3px\">⊢</span><span style=\"background-color:lightgrey; padding: 5px; margin: 3px\">a</span><span style=\"background-color:lightgrey; padding: 5px; margin: 3px\">b</span><span style=\"background-color:red; padding: 5px; margin: 3px\">a</span><span style=\"background-color:lightgrey; padding: 5px; margin: 3px\"></span></span></div><div style=\"padding:20px\"><span style=\"display:inline-block; width:100px\"> state:r</span>input tape:<span style=\"margin:20px\"><span style=\"background-color:lightgrey; padding: 5px; margin: 3px\">⊢</span><span style=\"background-color:lightgrey; padding: 5px; margin: 3px\">a</span><span style=\"background-color:red; padding: 5px; margin: 3px\">b</span><span style=\"background-color:lightgrey; padding: 5px; margin: 3px\">a</span><span style=\"background-color:lightgrey; padding: 5px; margin: 3px\">⊣</span></span>work tape:<span style=\"margin:20px\"><span style=\"background-color:lightgrey; padding: 5px; margin: 3px\">⊢</span><span style=\"background-color:lightgrey; padding: 5px; margin: 3px\">a</span><span style=\"background-color:red; padding: 5px; margin: 3px\">b</span><span style=\"background-color:lightgrey; padding: 5px; margin: 3px\">a</span><span style=\"background-color:lightgrey; padding: 5px; margin: 3px\"></span></span></div><div style=\"padding:20px\"><span style=\"display:inline-block; width:100px\"> state:r</span>input tape:<span style=\"margin:20px\"><span style=\"background-color:lightgrey; padding: 5px; margin: 3px\">⊢</span><span style=\"background-color:lightgrey; padding: 5px; margin: 3px\">a</span><span style=\"background-color:lightgrey; padding: 5px; margin: 3px\">b</span><span style=\"background-color:red; padding: 5px; margin: 3px\">a</span><span style=\"background-color:lightgrey; padding: 5px; margin: 3px\">⊣</span></span>work tape:<span style=\"margin:20px\"><span style=\"background-color:lightgrey; padding: 5px; margin: 3px\">⊢</span><span style=\"background-color:red; padding: 5px; margin: 3px\">a</span><span style=\"background-color:lightgrey; padding: 5px; margin: 3px\">b</span><span style=\"background-color:lightgrey; padding: 5px; margin: 3px\">a</span><span style=\"background-color:lightgrey; padding: 5px; margin: 3px\"></span></span></div><div style=\"padding:20px\"><span style=\"display:inline-block; width:100px\"> state:r</span>input tape:<span style=\"margin:20px\"><span style=\"background-color:lightgrey; padding: 5px; margin: 3px\">⊢</span><span style=\"background-color:lightgrey; padding: 5px; margin: 3px\">a</span><span style=\"background-color:lightgrey; padding: 5px; margin: 3px\">b</span><span style=\"background-color:lightgrey; padding: 5px; margin: 3px\">a</span><span style=\"background-color:red; padding: 5px; margin: 3px\">⊣</span></span>work tape:<span style=\"margin:20px\"><span style=\"background-color:red; padding: 5px; margin: 3px\">⊢</span><span style=\"background-color:lightgrey; padding: 5px; margin: 3px\">a</span><span style=\"background-color:lightgrey; padding: 5px; margin: 3px\">b</span><span style=\"background-color:lightgrey; padding: 5px; margin: 3px\">a</span><span style=\"background-color:lightgrey; padding: 5px; margin: 3px\"></span></span></div><div style=\"padding:20px\">accept</div>"
      ],
      "text/plain": [
       "<IPython.core.display.HTML object>"
      ]
     },
     "execution_count": 37,
     "metadata": {},
     "output_type": "execute_result"
    }
   ],
   "source": [
    "displayRun(machine,['a','b','a'])"
   ]
  },
  {
   "cell_type": "markdown",
   "id": "df078744-d2a0-407a-bca0-1d7edbf201b1",
   "metadata": {
    "tags": []
   },
   "source": [
    "### One tape palindromes\n",
    "\n",
    "Here is a one tape machine that recognizes the palindromes, again over the alphabet 'a' and 'b'. In the one tape variant, there is a flag 'onlyWorkTape' : true, which is not used in the default two tape format. The work tape is the only tape."
   ]
  },
  {
   "cell_type": "code",
   "execution_count": 38,
   "id": "496e15aa-8214-4de8-bb5d-8c43f3beaf97",
   "metadata": {},
   "outputs": [],
   "source": [
    "oneTapeMachine = { 'onlyWorkTape' : True,\n",
    "                  'initial' : 'init',\n",
    "                  'transitions' : [\n",
    "                      {'state before' : 'init', 'state after' : 'q', 'move work head' : 1},\n",
    "                      {'state before' : 'q', 'state after' : 'senda', 'work letter before': 'a',  'work letter after': '', 'move work head' : 1,'work tape after' : ''},\n",
    "                      {'state before' : 'senda', 'state after' : 'senda', 'work letter before': 'a', 'move work head' : 1},\n",
    "                      {'state before' : 'senda', 'state after' : 'senda', 'work letter before': 'b', 'move work head' : 1},\n",
    "                      {'state before' : 'senda', 'state after' : 'checka', 'work letter before': '', 'move work head' : -1},\n",
    "                      {'state before' : 'checka', 'state after' : 'return', 'work letter before': 'a', 'work letter after': '', 'move work head' : -1, 'work tape after' : ''},\n",
    "                      {'state before' : 'q', 'state after' : 'sendb', 'work letter before': 'b', 'work letter after': '', 'move work head' : 1,'work tape after' : ''},\n",
    "                      {'state before' : 'sendb', 'state after' : 'sendb', 'work letter before': 'a', 'move work head' : 1},\n",
    "                      {'state before' : 'sendb', 'state after' : 'sendb', 'work letter before': 'b', 'move work head' : 1},\n",
    "                      {'state before' : 'sendb', 'state after' : 'checkb', 'work letter before': '', 'move work head' : -1},\n",
    "                      {'state before' : 'checkb', 'state after' : 'return', 'work letter before': 'b', 'work letter after': '','move work head' : -1, 'work tape after' : ''},\n",
    "                      {'state before' : 'return', 'state after' : 'return', 'work letter before': 'a', 'move work head' : -1},\n",
    "                      {'state before' : 'return', 'state after' : 'return', 'work letter before': 'b', 'move work head' : -1},\n",
    "                      {'state before' : 'return', 'state after' : 'q', 'work letter before': '', 'move work head' : 1},\n",
    "                      {'state before' : 'q', 'work letter before': '', 'halt' : 'accept'},                  \n",
    "                      {'state before' : 'checka', 'work letter before': '', 'halt' : 'accept'}, \n",
    "                      {'state before' : 'checkb', 'work letter before': '', 'halt' : 'accept'}, \n",
    "                  ]\n",
    "          }"
   ]
  },
  {
   "cell_type": "code",
   "execution_count": 39,
   "id": "f86528ab-5411-4c2c-ab03-3ed361323622",
   "metadata": {},
   "outputs": [
    {
     "data": {
      "text/html": [
       "<div style=\"padding:20px\"><span style=\"display:inline-block; width:100px\"> state:init</span><span style=\"margin:20px\"><span style=\"background-color:red; padding: 5px; margin: 3px\">⊢</span><span style=\"background-color:lightgrey; padding: 5px; margin: 3px\">a</span><span style=\"background-color:lightgrey; padding: 5px; margin: 3px\">c</span><span style=\"background-color:lightgrey; padding: 5px; margin: 3px\">b</span><span style=\"background-color:lightgrey; padding: 5px; margin: 3px\">a</span></span></div><div style=\"padding:20px\"><span style=\"display:inline-block; width:100px\"> state:q</span><span style=\"margin:20px\"><span style=\"background-color:lightgrey; padding: 5px; margin: 3px\">⊢</span><span style=\"background-color:red; padding: 5px; margin: 3px\">a</span><span style=\"background-color:lightgrey; padding: 5px; margin: 3px\">c</span><span style=\"background-color:lightgrey; padding: 5px; margin: 3px\">b</span><span style=\"background-color:lightgrey; padding: 5px; margin: 3px\">a</span></span></div><div style=\"padding:20px\"><span style=\"display:inline-block; width:100px\"> state:senda</span><span style=\"margin:20px\"><span style=\"background-color:lightgrey; padding: 5px; margin: 3px\">⊢</span><span style=\"background-color:lightgrey; padding: 5px; margin: 3px\"></span><span style=\"background-color:red; padding: 5px; margin: 3px\">c</span><span style=\"background-color:lightgrey; padding: 5px; margin: 3px\">b</span><span style=\"background-color:lightgrey; padding: 5px; margin: 3px\">a</span></span></div><div style=\"padding:20px\">reject because no transition can be applied</div>"
      ],
      "text/plain": [
       "<IPython.core.display.HTML object>"
      ]
     },
     "execution_count": 39,
     "metadata": {},
     "output_type": "execute_result"
    }
   ],
   "source": [
    "displayRun(oneTapeMachine,['a','c','b','a'])"
   ]
  },
  {
   "cell_type": "code",
   "execution_count": null,
   "id": "de4020b6-0b4f-415c-89cd-e0b2232ad7a4",
   "metadata": {},
   "outputs": [],
   "source": []
  },
  {
   "cell_type": "code",
   "execution_count": null,
   "id": "7101cc40-c3b2-4663-879b-8b6043e9c3a7",
   "metadata": {},
   "outputs": [],
   "source": []
  }
 ],
 "metadata": {
  "kernelspec": {
   "display_name": "Python 3 (ipykernel)",
   "language": "python",
   "name": "python3"
  },
  "language_info": {
   "codemirror_mode": {
    "name": "ipython",
    "version": 3
   },
   "file_extension": ".py",
   "mimetype": "text/x-python",
   "name": "python",
   "nbconvert_exporter": "python",
   "pygments_lexer": "ipython3",
   "version": "3.11.0"
  },
  "vscode": {
   "interpreter": {
    "hash": "aee8b7b246df8f9039afb4144a1f6fd8d2ca17a180786b69acc140d282b71a49"
   }
  }
 },
 "nbformat": 4,
 "nbformat_minor": 5
}
